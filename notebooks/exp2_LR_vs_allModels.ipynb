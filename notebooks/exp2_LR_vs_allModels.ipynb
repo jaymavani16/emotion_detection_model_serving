{
 "cells": [
  {
   "cell_type": "code",
   "execution_count": 27,
   "id": "ff8566ee",
   "metadata": {},
   "outputs": [],
   "source": [
    "# Import necessary libraries\n",
    "import mlflow\n",
    "import mlflow.sklearn\n",
    "from sklearn.feature_extraction.text import CountVectorizer, TfidfVectorizer\n",
    "from sklearn.model_selection import train_test_split\n",
    "from sklearn.linear_model import LogisticRegression\n",
    "from sklearn.naive_bayes import MultinomialNB\n",
    "from xgboost import XGBClassifier\n",
    "from sklearn.ensemble import RandomForestClassifier, GradientBoostingClassifier\n",
    "from sklearn.metrics import accuracy_score, precision_score, recall_score, f1_score\n",
    "import pandas as pd\n",
    "import re\n",
    "import string\n",
    "from nltk.corpus import stopwords\n",
    "from nltk.stem import WordNetLemmatizer\n",
    "import numpy as np\n",
    "import os\n",
    "\n",
    "import dagshub"
   ]
  },
  {
   "cell_type": "code",
   "execution_count": 28,
   "id": "d8c85cb8",
   "metadata": {},
   "outputs": [
    {
     "data": {
      "text/html": [
       "<pre style=\"white-space:pre;overflow-x:auto;line-height:normal;font-family:Menlo,'DejaVu Sans Mono',consolas,'Courier New',monospace\">Initialized MLflow to track repo <span style=\"color: #008000; text-decoration-color: #008000\">\"jaymavani16/emotion_detection_model_serving\"</span>\n",
       "</pre>\n"
      ],
      "text/plain": [
       "Initialized MLflow to track repo \u001b[32m\"jaymavani16/emotion_detection_model_serving\"\u001b[0m\n"
      ]
     },
     "metadata": {},
     "output_type": "display_data"
    },
    {
     "data": {
      "text/html": [
       "<pre style=\"white-space:pre;overflow-x:auto;line-height:normal;font-family:Menlo,'DejaVu Sans Mono',consolas,'Courier New',monospace\">Repository jaymavani16/emotion_detection_model_serving initialized!\n",
       "</pre>\n"
      ],
      "text/plain": [
       "Repository jaymavani16/emotion_detection_model_serving initialized!\n"
      ]
     },
     "metadata": {},
     "output_type": "display_data"
    }
   ],
   "source": [
    "mlflow.set_tracking_uri(\"https://dagshub.com/jaymavani16/emotion_detection_model_serving.mlflow\")\n",
    "dagshub.init(repo_owner='jaymavani16', repo_name='emotion_detection_model_serving', mlflow=True)"
   ]
  },
  {
   "cell_type": "code",
   "execution_count": 29,
   "id": "dfbaa399",
   "metadata": {},
   "outputs": [
    {
     "data": {
      "text/html": [
       "<div>\n",
       "<style scoped>\n",
       "    .dataframe tbody tr th:only-of-type {\n",
       "        vertical-align: middle;\n",
       "    }\n",
       "\n",
       "    .dataframe tbody tr th {\n",
       "        vertical-align: top;\n",
       "    }\n",
       "\n",
       "    .dataframe thead th {\n",
       "        text-align: right;\n",
       "    }\n",
       "</style>\n",
       "<table border=\"1\" class=\"dataframe\">\n",
       "  <thead>\n",
       "    <tr style=\"text-align: right;\">\n",
       "      <th></th>\n",
       "      <th>sentiment</th>\n",
       "      <th>content</th>\n",
       "    </tr>\n",
       "  </thead>\n",
       "  <tbody>\n",
       "    <tr>\n",
       "      <th>0</th>\n",
       "      <td>empty</td>\n",
       "      <td>@tiffanylue i know  i was listenin to bad habi...</td>\n",
       "    </tr>\n",
       "    <tr>\n",
       "      <th>1</th>\n",
       "      <td>sadness</td>\n",
       "      <td>Layin n bed with a headache  ughhhh...waitin o...</td>\n",
       "    </tr>\n",
       "    <tr>\n",
       "      <th>2</th>\n",
       "      <td>sadness</td>\n",
       "      <td>Funeral ceremony...gloomy friday...</td>\n",
       "    </tr>\n",
       "    <tr>\n",
       "      <th>3</th>\n",
       "      <td>enthusiasm</td>\n",
       "      <td>wants to hang out with friends SOON!</td>\n",
       "    </tr>\n",
       "    <tr>\n",
       "      <th>4</th>\n",
       "      <td>neutral</td>\n",
       "      <td>@dannycastillo We want to trade with someone w...</td>\n",
       "    </tr>\n",
       "  </tbody>\n",
       "</table>\n",
       "</div>"
      ],
      "text/plain": [
       "    sentiment                                            content\n",
       "0       empty  @tiffanylue i know  i was listenin to bad habi...\n",
       "1     sadness  Layin n bed with a headache  ughhhh...waitin o...\n",
       "2     sadness                Funeral ceremony...gloomy friday...\n",
       "3  enthusiasm               wants to hang out with friends SOON!\n",
       "4     neutral  @dannycastillo We want to trade with someone w..."
      ]
     },
     "execution_count": 29,
     "metadata": {},
     "output_type": "execute_result"
    }
   ],
   "source": [
    "df = pd.read_csv('https://raw.githubusercontent.com/campusx-official/jupyter-masterclass/main/tweet_emotions.csv').drop(columns=['tweet_id'])\n",
    "df.head()\n"
   ]
  },
  {
   "cell_type": "code",
   "execution_count": 30,
   "id": "caa49c81",
   "metadata": {},
   "outputs": [
    {
     "name": "stderr",
     "output_type": "stream",
     "text": [
      "C:\\Users\\jayma\\AppData\\Local\\Temp\\ipykernel_23492\\1936429135.py:57: FutureWarning: Downcasting behavior in `replace` is deprecated and will be removed in a future version. To retain the old behavior, explicitly call `result.infer_objects(copy=False)`. To opt-in to the future behavior, set `pd.set_option('future.no_silent_downcasting', True)`\n",
      "  df['sentiment'] = df['sentiment'].replace({'sadness':0, 'happiness':1})\n"
     ]
    }
   ],
   "source": [
    "def lemmatization(text):\n",
    "    \"\"\"Lemmatize the text.\"\"\"\n",
    "    lemmatizer = WordNetLemmatizer()\n",
    "    text = text.split()\n",
    "    text = [lemmatizer.lemmatize(word) for word in text]\n",
    "    return \" \".join(text)\n",
    "\n",
    "def remove_stop_words(text):\n",
    "    \"\"\"Remove stop words from the text.\"\"\"\n",
    "    stop_words = set(stopwords.words(\"english\"))\n",
    "    text = [word for word in str(text).split() if word not in stop_words]\n",
    "    return \" \".join(text)\n",
    "\n",
    "def removing_numbers(text):\n",
    "    \"\"\"Remove numbers from the text.\"\"\"\n",
    "    text = ''.join([char for char in text if not char.isdigit()])\n",
    "    return text\n",
    "\n",
    "def lower_case(text):\n",
    "    \"\"\"Convert text to lower case.\"\"\"\n",
    "    text = text.split()\n",
    "    text = [word.lower() for word in text]\n",
    "    return \" \".join(text)\n",
    "\n",
    "def removing_punctuations(text):\n",
    "    \"\"\"Remove punctuations from the text.\"\"\"\n",
    "    text = re.sub('[%s]' % re.escape(string.punctuation), ' ', text)\n",
    "    text = text.replace('؛', \"\")\n",
    "    text = re.sub(r'\\s+', ' ', text).strip()\n",
    "    return text\n",
    "\n",
    "def removing_urls(text):\n",
    "    \"\"\"Remove URLs from the text.\"\"\"\n",
    "    url_pattern = re.compile(r'https?://\\S+|www\\.\\S+')\n",
    "    return url_pattern.sub(r'', text)\n",
    "\n",
    "def normalize_text(df):\n",
    "    \"\"\"Normalize the text data.\"\"\"\n",
    "    try:\n",
    "        df['content'] = df['content'].apply(lower_case)\n",
    "        df['content'] = df['content'].apply(remove_stop_words)\n",
    "        df['content'] = df['content'].apply(removing_numbers)\n",
    "        df['content'] = df['content'].apply(removing_punctuations)\n",
    "        df['content'] = df['content'].apply(removing_urls)\n",
    "        df['content'] = df['content'].apply(lemmatization)\n",
    "        return df\n",
    "    except Exception as e:\n",
    "        print(f'Error during text normalization: {e}')\n",
    "        raise\n",
    "\n",
    "# Normalize the text data\n",
    "df = normalize_text(df)\n",
    "\n",
    "x = df['sentiment'].isin(['happiness','sadness'])\n",
    "df = df[x]\n",
    "\n",
    "df['sentiment'] = df['sentiment'].replace({'sadness':0, 'happiness':1})\n"
   ]
  },
  {
   "cell_type": "code",
   "execution_count": 35,
   "id": "2a78e2bf",
   "metadata": {},
   "outputs": [
    {
     "name": "stderr",
     "output_type": "stream",
     "text": [
      "2025/05/22 16:06:18 WARNING mlflow.models.model: Model logged without a signature and input example. Please set `input_example` parameter when logging the model to auto infer the model signature.\n"
     ]
    },
    {
     "name": "stdout",
     "output_type": "stream",
     "text": [
      "Algorithm: LogisticRegression, Feature Engineering: BoW\n",
      "Accuracy: 0.7937349397590362\n",
      "Precision: 0.7846750727449079\n",
      "Recall: 0.7970443349753694\n",
      "F1 Score: 0.7908113391984359\n",
      "🏃 View run LogisticRegression with BoW at: https://dagshub.com/jaymavani16/emotion_detection_model_serving.mlflow/#/experiments/4/runs/b36a704f34ab49d8880544c040e01e1f\n",
      "🧪 View experiment at: https://dagshub.com/jaymavani16/emotion_detection_model_serving.mlflow/#/experiments/4\n"
     ]
    },
    {
     "name": "stderr",
     "output_type": "stream",
     "text": [
      "2025/05/22 16:06:36 WARNING mlflow.models.model: Model logged without a signature and input example. Please set `input_example` parameter when logging the model to auto infer the model signature.\n"
     ]
    },
    {
     "name": "stdout",
     "output_type": "stream",
     "text": [
      "Algorithm: LogisticRegression, Feature Engineering: TF-IDF\n",
      "Accuracy: 0.7942168674698795\n",
      "Precision: 0.777882797731569\n",
      "Recall: 0.8108374384236453\n",
      "F1 Score: 0.79401833092137\n",
      "🏃 View run LogisticRegression with TF-IDF at: https://dagshub.com/jaymavani16/emotion_detection_model_serving.mlflow/#/experiments/4/runs/9de6d20811da437dbf21b4ac93e5189d\n",
      "🧪 View experiment at: https://dagshub.com/jaymavani16/emotion_detection_model_serving.mlflow/#/experiments/4\n"
     ]
    },
    {
     "name": "stderr",
     "output_type": "stream",
     "text": [
      "2025/05/22 16:06:55 WARNING mlflow.models.model: Model logged without a signature and input example. Please set `input_example` parameter when logging the model to auto infer the model signature.\n"
     ]
    },
    {
     "name": "stdout",
     "output_type": "stream",
     "text": [
      "Algorithm: MultinomialNB, Feature Engineering: BoW\n",
      "Accuracy: 0.7826506024096386\n",
      "Precision: 0.7797619047619048\n",
      "Recall: 0.774384236453202\n",
      "F1 Score: 0.7770637666831438\n",
      "🏃 View run MultinomialNB with BoW at: https://dagshub.com/jaymavani16/emotion_detection_model_serving.mlflow/#/experiments/4/runs/d4664c49d4c74c9f800738f987e032da\n",
      "🧪 View experiment at: https://dagshub.com/jaymavani16/emotion_detection_model_serving.mlflow/#/experiments/4\n"
     ]
    },
    {
     "name": "stderr",
     "output_type": "stream",
     "text": [
      "2025/05/22 16:07:14 WARNING mlflow.models.model: Model logged without a signature and input example. Please set `input_example` parameter when logging the model to auto infer the model signature.\n"
     ]
    },
    {
     "name": "stdout",
     "output_type": "stream",
     "text": [
      "Algorithm: MultinomialNB, Feature Engineering: TF-IDF\n",
      "Accuracy: 0.7826506024096386\n",
      "Precision: 0.7737864077669903\n",
      "Recall: 0.7852216748768472\n",
      "F1 Score: 0.7794621026894866\n",
      "🏃 View run MultinomialNB with TF-IDF at: https://dagshub.com/jaymavani16/emotion_detection_model_serving.mlflow/#/experiments/4/runs/2729441c37be47798429d4db17815986\n",
      "🧪 View experiment at: https://dagshub.com/jaymavani16/emotion_detection_model_serving.mlflow/#/experiments/4\n"
     ]
    },
    {
     "name": "stderr",
     "output_type": "stream",
     "text": [
      "2025/05/22 16:07:35 WARNING mlflow.models.model: Model logged without a signature and input example. Please set `input_example` parameter when logging the model to auto infer the model signature.\n"
     ]
    },
    {
     "name": "stdout",
     "output_type": "stream",
     "text": [
      "Algorithm: XGBoost, Feature Engineering: BoW\n",
      "Accuracy: 0.771566265060241\n",
      "Precision: 0.7988950276243094\n",
      "Recall: 0.7123152709359606\n",
      "F1 Score: 0.753125\n",
      "🏃 View run XGBoost with BoW at: https://dagshub.com/jaymavani16/emotion_detection_model_serving.mlflow/#/experiments/4/runs/1abd0b2d68ce44f5b7f5e79c62762385\n",
      "🧪 View experiment at: https://dagshub.com/jaymavani16/emotion_detection_model_serving.mlflow/#/experiments/4\n"
     ]
    },
    {
     "name": "stderr",
     "output_type": "stream",
     "text": [
      "2025/05/22 16:07:56 WARNING mlflow.models.model: Model logged without a signature and input example. Please set `input_example` parameter when logging the model to auto infer the model signature.\n"
     ]
    },
    {
     "name": "stdout",
     "output_type": "stream",
     "text": [
      "Algorithm: XGBoost, Feature Engineering: TF-IDF\n",
      "Accuracy: 0.7614457831325301\n",
      "Precision: 0.7170283806343907\n",
      "Recall: 0.8463054187192118\n",
      "F1 Score: 0.7763217352010845\n",
      "🏃 View run XGBoost with TF-IDF at: https://dagshub.com/jaymavani16/emotion_detection_model_serving.mlflow/#/experiments/4/runs/770d3680e7af4c0681842244679bbdb2\n",
      "🧪 View experiment at: https://dagshub.com/jaymavani16/emotion_detection_model_serving.mlflow/#/experiments/4\n"
     ]
    },
    {
     "name": "stderr",
     "output_type": "stream",
     "text": [
      "2025/05/22 16:08:39 WARNING mlflow.models.model: Model logged without a signature and input example. Please set `input_example` parameter when logging the model to auto infer the model signature.\n"
     ]
    },
    {
     "name": "stdout",
     "output_type": "stream",
     "text": [
      "Algorithm: RandomForest, Feature Engineering: BoW\n",
      "Accuracy: 0.7734939759036145\n",
      "Precision: 0.7847439916405433\n",
      "Recall: 0.7399014778325124\n",
      "F1 Score: 0.7616632860040567\n",
      "🏃 View run RandomForest with BoW at: https://dagshub.com/jaymavani16/emotion_detection_model_serving.mlflow/#/experiments/4/runs/cc65adf49f5d4286b1815d65cc3c22f4\n",
      "🧪 View experiment at: https://dagshub.com/jaymavani16/emotion_detection_model_serving.mlflow/#/experiments/4\n"
     ]
    },
    {
     "name": "stderr",
     "output_type": "stream",
     "text": [
      "2025/05/22 16:11:04 WARNING mlflow.models.model: Model logged without a signature and input example. Please set `input_example` parameter when logging the model to auto infer the model signature.\n"
     ]
    },
    {
     "name": "stdout",
     "output_type": "stream",
     "text": [
      "Algorithm: RandomForest, Feature Engineering: TF-IDF\n",
      "Accuracy: 0.7701204819277109\n",
      "Precision: 0.7733739837398373\n",
      "Recall: 0.7497536945812808\n",
      "F1 Score: 0.7613806903451726\n",
      "🏃 View run RandomForest with TF-IDF at: https://dagshub.com/jaymavani16/emotion_detection_model_serving.mlflow/#/experiments/4/runs/b549b683df994abe8d67b1d7a9a61d85\n",
      "🧪 View experiment at: https://dagshub.com/jaymavani16/emotion_detection_model_serving.mlflow/#/experiments/4\n"
     ]
    },
    {
     "name": "stderr",
     "output_type": "stream",
     "text": [
      "2025/05/22 16:13:13 WARNING mlflow.models.model: Model logged without a signature and input example. Please set `input_example` parameter when logging the model to auto infer the model signature.\n"
     ]
    },
    {
     "name": "stdout",
     "output_type": "stream",
     "text": [
      "Algorithm: GradientBoosting, Feature Engineering: BoW\n",
      "Accuracy: 0.7315662650602409\n",
      "Precision: 0.8021108179419525\n",
      "Recall: 0.5990147783251232\n",
      "F1 Score: 0.6858432036097011\n",
      "🏃 View run GradientBoosting with BoW at: https://dagshub.com/jaymavani16/emotion_detection_model_serving.mlflow/#/experiments/4/runs/219846fb424e4d1dac957cd640d6aefc\n",
      "🧪 View experiment at: https://dagshub.com/jaymavani16/emotion_detection_model_serving.mlflow/#/experiments/4\n"
     ]
    },
    {
     "name": "stderr",
     "output_type": "stream",
     "text": [
      "2025/05/22 16:14:11 WARNING mlflow.models.model: Model logged without a signature and input example. Please set `input_example` parameter when logging the model to auto infer the model signature.\n"
     ]
    },
    {
     "name": "stdout",
     "output_type": "stream",
     "text": [
      "Algorithm: GradientBoosting, Feature Engineering: TF-IDF\n",
      "Accuracy: 0.7185542168674699\n",
      "Precision: 0.8022440392706872\n",
      "Recall: 0.5635467980295567\n",
      "F1 Score: 0.6620370370370371\n",
      "🏃 View run GradientBoosting with TF-IDF at: https://dagshub.com/jaymavani16/emotion_detection_model_serving.mlflow/#/experiments/4/runs/0e6e761bdfa0499086e9932ef0a25c63\n",
      "🧪 View experiment at: https://dagshub.com/jaymavani16/emotion_detection_model_serving.mlflow/#/experiments/4\n",
      "🏃 View run All Experiments at: https://dagshub.com/jaymavani16/emotion_detection_model_serving.mlflow/#/experiments/4/runs/363c1808cc494c95895e49fad0f3d8a4\n",
      "🧪 View experiment at: https://dagshub.com/jaymavani16/emotion_detection_model_serving.mlflow/#/experiments/4\n"
     ]
    }
   ],
   "source": [
    "# Set the experiment name\n",
    "mlflow.set_experiment(\"Bow vs TfIdf with all models\")\n",
    "\n",
    "# Define feature extraction methods\n",
    "vectorizers = {\n",
    "    'BoW': CountVectorizer(),\n",
    "    'TF-IDF': TfidfVectorizer()\n",
    "}\n",
    "\n",
    "# Define algorithms\n",
    "algorithms = {\n",
    "    'LogisticRegression': LogisticRegression(),\n",
    "    'MultinomialNB': MultinomialNB(),\n",
    "    'XGBoost': XGBClassifier(),\n",
    "    'RandomForest': RandomForestClassifier(),\n",
    "    'GradientBoosting': GradientBoostingClassifier()\n",
    "}\n",
    "\n",
    "# Start the parent run\n",
    "with mlflow.start_run(run_name=\"All Experiments\") as parent_run:\n",
    "    # Loop through algorithms and feature extraction methods (Child Runs)\n",
    "    for algo_name, algorithm in algorithms.items():\n",
    "        for vec_name, vectorizer in vectorizers.items():\n",
    "            with mlflow.start_run(run_name=f\"{algo_name} with {vec_name}\", nested=True) as child_run:\n",
    "                X = vectorizer.fit_transform(df['content'])\n",
    "                y = df['sentiment']\n",
    "                X_train, X_test, y_train, y_test = train_test_split(X, y, test_size=0.2, random_state=42)\n",
    "                \n",
    "\n",
    "                # Log preprocessing parameters\n",
    "                mlflow.log_param(\"vectorizer\", vec_name)\n",
    "                mlflow.log_param(\"algorithm\", algo_name)\n",
    "                mlflow.log_param(\"test_size\", 0.2)\n",
    "                #mlflow.log_params(model.get_params())\n",
    "                \n",
    "                # Model training\n",
    "                model = algorithm\n",
    "                model.fit(X_train, y_train)\n",
    "                \n",
    "                # Log model parameters\n",
    "                if algo_name == 'LogisticRegression':\n",
    "                    mlflow.log_param(\"C\", model.C)\n",
    "                elif algo_name == 'MultinomialNB':\n",
    "                    mlflow.log_param(\"alpha\", model.alpha)\n",
    "                elif algo_name == 'XGBoost':\n",
    "                    mlflow.log_param(\"n_estimators\", model.n_estimators)\n",
    "                    mlflow.log_param(\"learning_rate\", model.learning_rate)\n",
    "                elif algo_name == 'RandomForest':\n",
    "                    mlflow.log_param(\"n_estimators\", model.n_estimators)\n",
    "                    mlflow.log_param(\"max_depth\", model.max_depth)\n",
    "                elif algo_name == 'GradientBoosting':\n",
    "                    mlflow.log_param(\"n_estimators\", model.n_estimators)\n",
    "                    mlflow.log_param(\"learning_rate\", model.learning_rate)\n",
    "                    mlflow.log_param(\"max_depth\", model.max_depth)\n",
    "                \n",
    "                #params = model.get_params()\n",
    "                #mlflow.log_param(params)\n",
    "\n",
    "                \n",
    "                # Model evaluation\n",
    "                y_pred = model.predict(X_test)\n",
    "                accuracy = accuracy_score(y_test, y_pred)\n",
    "                precision = precision_score(y_test, y_pred)\n",
    "                recall = recall_score(y_test, y_pred)\n",
    "                f1 = f1_score(y_test, y_pred)\n",
    "                \n",
    "                # Log evaluation metrics\n",
    "                mlflow.log_metric(\"accuracy\", accuracy)\n",
    "                mlflow.log_metric(\"precision\", precision)\n",
    "                mlflow.log_metric(\"recall\", recall)\n",
    "                mlflow.log_metric(\"f1_score\", f1)\n",
    "                \n",
    "                # Log model\n",
    "                mlflow.sklearn.log_model(model, \"model\")\n",
    "                \n",
    "                # Save and log the notebook\n",
    "                notebook_path = \"exp2_LR_vs_allModels.ipynb\"\n",
    "                os.system(f\"jupyter nbconvert --to notebook --execute --inplace {notebook_path}\")\n",
    "                mlflow.log_artifact(notebook_path)\n",
    "\n",
    "\n",
    "                \n",
    "                # Print the results for verification\n",
    "                print(f\"Algorithm: {algo_name}, Feature Engineering: {vec_name}\")\n",
    "                print(f\"Accuracy: {accuracy}\")\n",
    "                print(f\"Precision: {precision}\")\n",
    "                print(f\"Recall: {recall}\")\n",
    "                print(f\"F1 Score: {f1}\")\n",
    "\n",
    "\n",
    "\n",
    "\n"
   ]
  },
  {
   "cell_type": "code",
   "execution_count": null,
   "id": "b5c2f76f",
   "metadata": {},
   "outputs": [],
   "source": []
  }
 ],
 "metadata": {
  "kernelspec": {
   "display_name": "practiceEnv",
   "language": "python",
   "name": "python3"
  },
  "language_info": {
   "codemirror_mode": {
    "name": "ipython",
    "version": 3
   },
   "file_extension": ".py",
   "mimetype": "text/x-python",
   "name": "python",
   "nbconvert_exporter": "python",
   "pygments_lexer": "ipython3",
   "version": "3.13.2"
  }
 },
 "nbformat": 4,
 "nbformat_minor": 5
}
